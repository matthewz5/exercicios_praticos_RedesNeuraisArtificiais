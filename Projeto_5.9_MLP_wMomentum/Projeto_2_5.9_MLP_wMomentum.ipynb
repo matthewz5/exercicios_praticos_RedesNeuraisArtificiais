{
 "cells": [
  {
   "cell_type": "markdown",
   "metadata": {},
   "source": [
    "### Contexto\n",
    "\n",
    "---\n",
    "\n",
    "Rede Neural do tipo Perceptron de Multíplas Camadas com 4 entradas $x_1$, $x_2$,  $x_3$ e $x_4$ e 15 neurônios em uma camada intermediária e 3 neurônio na camada de saída para $y_1$, $y_2$ e $y_3$.\n",
    "\n",
    "Objetivo: Classificação de padrões\n",
    "\n",
    "Algoritmo de aprendizagem/ajuste: *backpropagation* e *momentum*. \n",
    "\n",
    "<img src=\"Fig/EPC5_Topologia_MLP_Projeto2.jpg\" width=\"600\">\n"
   ]
  },
  {
   "cell_type": "markdown",
   "metadata": {},
   "source": [
    "### Bibliotecas utilizadas\n",
    "\n",
    "---"
   ]
  },
  {
   "cell_type": "code",
   "execution_count": 39,
   "metadata": {},
   "outputs": [],
   "source": [
    "import numpy as np\n",
    "import pandas as pd\n",
    "from matplotlib import pyplot as plt"
   ]
  },
  {
   "cell_type": "markdown",
   "metadata": {},
   "source": [
    "### Tratamento dos dados\n",
    "\n",
    "---"
   ]
  },
  {
   "cell_type": "code",
   "execution_count": 40,
   "metadata": {},
   "outputs": [],
   "source": [
    "# Leitura dos dados\n",
    "\n",
    "data = pd.read_csv('data_59_RNA.txt', delim_whitespace=True)"
   ]
  },
  {
   "cell_type": "code",
   "execution_count": 41,
   "metadata": {},
   "outputs": [
    {
     "data": {
      "text/html": [
       "<div>\n",
       "<style scoped>\n",
       "    .dataframe tbody tr th:only-of-type {\n",
       "        vertical-align: middle;\n",
       "    }\n",
       "\n",
       "    .dataframe tbody tr th {\n",
       "        vertical-align: top;\n",
       "    }\n",
       "\n",
       "    .dataframe thead th {\n",
       "        text-align: right;\n",
       "    }\n",
       "</style>\n",
       "<table border=\"1\" class=\"dataframe\">\n",
       "  <thead>\n",
       "    <tr style=\"text-align: right;\">\n",
       "      <th></th>\n",
       "      <th>x1</th>\n",
       "      <th>x2</th>\n",
       "      <th>x3</th>\n",
       "      <th>x4</th>\n",
       "      <th>d1</th>\n",
       "      <th>d2</th>\n",
       "      <th>d3</th>\n",
       "    </tr>\n",
       "  </thead>\n",
       "  <tbody>\n",
       "    <tr>\n",
       "      <th>0</th>\n",
       "      <td>0.3841</td>\n",
       "      <td>0.2021</td>\n",
       "      <td>0.0000</td>\n",
       "      <td>0.2438</td>\n",
       "      <td>1.0</td>\n",
       "      <td>0.0</td>\n",
       "      <td>0.0</td>\n",
       "    </tr>\n",
       "    <tr>\n",
       "      <th>1</th>\n",
       "      <td>0.1765</td>\n",
       "      <td>0.1613</td>\n",
       "      <td>0.3401</td>\n",
       "      <td>0.0843</td>\n",
       "      <td>1.0</td>\n",
       "      <td>0.0</td>\n",
       "      <td>0.0</td>\n",
       "    </tr>\n",
       "    <tr>\n",
       "      <th>2</th>\n",
       "      <td>0.3170</td>\n",
       "      <td>0.5786</td>\n",
       "      <td>0.3387</td>\n",
       "      <td>0.4192</td>\n",
       "      <td>0.0</td>\n",
       "      <td>1.0</td>\n",
       "      <td>0.0</td>\n",
       "    </tr>\n",
       "    <tr>\n",
       "      <th>3</th>\n",
       "      <td>0.2467</td>\n",
       "      <td>0.0337</td>\n",
       "      <td>0.2699</td>\n",
       "      <td>0.3454</td>\n",
       "      <td>1.0</td>\n",
       "      <td>0.0</td>\n",
       "      <td>0.0</td>\n",
       "    </tr>\n",
       "    <tr>\n",
       "      <th>4</th>\n",
       "      <td>0.6102</td>\n",
       "      <td>0.8192</td>\n",
       "      <td>0.4679</td>\n",
       "      <td>0.4762</td>\n",
       "      <td>0.0</td>\n",
       "      <td>1.0</td>\n",
       "      <td>0.0</td>\n",
       "    </tr>\n",
       "    <tr>\n",
       "      <th>...</th>\n",
       "      <td>...</td>\n",
       "      <td>...</td>\n",
       "      <td>...</td>\n",
       "      <td>...</td>\n",
       "      <td>...</td>\n",
       "      <td>...</td>\n",
       "      <td>...</td>\n",
       "    </tr>\n",
       "    <tr>\n",
       "      <th>125</th>\n",
       "      <td>0.4155</td>\n",
       "      <td>0.6589</td>\n",
       "      <td>0.5310</td>\n",
       "      <td>0.5404</td>\n",
       "      <td>0.0</td>\n",
       "      <td>1.0</td>\n",
       "      <td>0.0</td>\n",
       "    </tr>\n",
       "    <tr>\n",
       "      <th>126</th>\n",
       "      <td>0.3934</td>\n",
       "      <td>0.6244</td>\n",
       "      <td>0.4817</td>\n",
       "      <td>0.4324</td>\n",
       "      <td>0.0</td>\n",
       "      <td>1.0</td>\n",
       "      <td>0.0</td>\n",
       "    </tr>\n",
       "    <tr>\n",
       "      <th>127</th>\n",
       "      <td>0.5843</td>\n",
       "      <td>0.8517</td>\n",
       "      <td>0.8576</td>\n",
       "      <td>0.7133</td>\n",
       "      <td>0.0</td>\n",
       "      <td>0.0</td>\n",
       "      <td>1.0</td>\n",
       "    </tr>\n",
       "    <tr>\n",
       "      <th>128</th>\n",
       "      <td>0.1995</td>\n",
       "      <td>0.3690</td>\n",
       "      <td>0.3537</td>\n",
       "      <td>0.3462</td>\n",
       "      <td>1.0</td>\n",
       "      <td>0.0</td>\n",
       "      <td>0.0</td>\n",
       "    </tr>\n",
       "    <tr>\n",
       "      <th>129</th>\n",
       "      <td>0.3832</td>\n",
       "      <td>0.2321</td>\n",
       "      <td>0.0341</td>\n",
       "      <td>0.2450</td>\n",
       "      <td>1.0</td>\n",
       "      <td>0.0</td>\n",
       "      <td>0.0</td>\n",
       "    </tr>\n",
       "  </tbody>\n",
       "</table>\n",
       "<p>130 rows × 7 columns</p>\n",
       "</div>"
      ],
      "text/plain": [
       "         x1      x2      x3      x4   d1   d2   d3\n",
       "0    0.3841  0.2021  0.0000  0.2438  1.0  0.0  0.0\n",
       "1    0.1765  0.1613  0.3401  0.0843  1.0  0.0  0.0\n",
       "2    0.3170  0.5786  0.3387  0.4192  0.0  1.0  0.0\n",
       "3    0.2467  0.0337  0.2699  0.3454  1.0  0.0  0.0\n",
       "4    0.6102  0.8192  0.4679  0.4762  0.0  1.0  0.0\n",
       "..      ...     ...     ...     ...  ...  ...  ...\n",
       "125  0.4155  0.6589  0.5310  0.5404  0.0  1.0  0.0\n",
       "126  0.3934  0.6244  0.4817  0.4324  0.0  1.0  0.0\n",
       "127  0.5843  0.8517  0.8576  0.7133  0.0  0.0  1.0\n",
       "128  0.1995  0.3690  0.3537  0.3462  1.0  0.0  0.0\n",
       "129  0.3832  0.2321  0.0341  0.2450  1.0  0.0  0.0\n",
       "\n",
       "[130 rows x 7 columns]"
      ]
     },
     "execution_count": 41,
     "metadata": {},
     "output_type": "execute_result"
    }
   ],
   "source": [
    "data"
   ]
  },
  {
   "cell_type": "code",
   "execution_count": 42,
   "metadata": {},
   "outputs": [
    {
     "data": {
      "text/html": [
       "<div>\n",
       "<style scoped>\n",
       "    .dataframe tbody tr th:only-of-type {\n",
       "        vertical-align: middle;\n",
       "    }\n",
       "\n",
       "    .dataframe tbody tr th {\n",
       "        vertical-align: top;\n",
       "    }\n",
       "\n",
       "    .dataframe thead th {\n",
       "        text-align: right;\n",
       "    }\n",
       "</style>\n",
       "<table border=\"1\" class=\"dataframe\">\n",
       "  <thead>\n",
       "    <tr style=\"text-align: right;\">\n",
       "      <th></th>\n",
       "      <th>Tipo de conservante</th>\n",
       "      <th>y1</th>\n",
       "      <th>y2</th>\n",
       "      <th>y3</th>\n",
       "    </tr>\n",
       "  </thead>\n",
       "  <tbody>\n",
       "    <tr>\n",
       "      <th>0</th>\n",
       "      <td>Tipo A</td>\n",
       "      <td>1</td>\n",
       "      <td>0</td>\n",
       "      <td>0</td>\n",
       "    </tr>\n",
       "    <tr>\n",
       "      <th>1</th>\n",
       "      <td>Tipo B</td>\n",
       "      <td>0</td>\n",
       "      <td>1</td>\n",
       "      <td>0</td>\n",
       "    </tr>\n",
       "    <tr>\n",
       "      <th>2</th>\n",
       "      <td>Tipo C</td>\n",
       "      <td>0</td>\n",
       "      <td>0</td>\n",
       "      <td>1</td>\n",
       "    </tr>\n",
       "  </tbody>\n",
       "</table>\n",
       "</div>"
      ],
      "text/plain": [
       "  Tipo de conservante y1 y2 y3\n",
       "0              Tipo A  1  0  0\n",
       "1              Tipo B  0  1  0\n",
       "2              Tipo C  0  0  1"
      ]
     },
     "execution_count": 42,
     "metadata": {},
     "output_type": "execute_result"
    }
   ],
   "source": [
    "# Tabela de classificacao de padros\n",
    "\n",
    "tab_saida_colunas = ['Tipo de conservante', 'y1', 'y2', 'y3',]\n",
    "\n",
    "tab_saida_valores = [['Tipo A', '1', '0', '0'],\n",
    "                    ['Tipo B', '0', '1', '0'],\n",
    "                    ['Tipo C', '0', '0', '1']]\n",
    "\n",
    "tab_classificacao = pd.DataFrame(tab_saida_valores, columns=tab_saida_colunas)\n",
    "\n",
    "tab_classificacao"
   ]
  },
  {
   "cell_type": "code",
   "execution_count": 43,
   "metadata": {},
   "outputs": [],
   "source": [
    "# Separacao dos dados\n",
    "\n",
    "x1 = data['x1'].copy()\n",
    "x2 = data['x2'].copy()\n",
    "x3 = data['x3'].copy()\n",
    "x4 = data['x4'].copy()\n",
    "X = pd.concat([x1, x2, x3, x4], axis=1)\n",
    "\n",
    "d1 = data['d1'].copy()\n",
    "d2 = data['d2'].copy()\n",
    "d3 = data['d3'].copy()\n",
    "d = pd.concat([d1, d2, d3], axis=1)"
   ]
  },
  {
   "cell_type": "code",
   "execution_count": 44,
   "metadata": {},
   "outputs": [
    {
     "name": "stdout",
     "output_type": "stream",
     "text": [
      "min = 0.0 \n",
      " max = 1.0\n"
     ]
    }
   ],
   "source": [
    "# Verifica a normalizacao\n",
    "\n",
    "min = X.values.min()\n",
    "max = X.values.max()\n",
    "\n",
    "print(f'min = {min} \\n max = {max}')"
   ]
  },
  {
   "cell_type": "markdown",
   "metadata": {},
   "source": [
    "Já normalizado"
   ]
  },
  {
   "cell_type": "code",
   "execution_count": 45,
   "metadata": {},
   "outputs": [],
   "source": [
    "# Adiciona coluna do limiar de ativacao = -1 (bias) no conjunto de dados\n",
    "X['bias'] = -1"
   ]
  },
  {
   "cell_type": "code",
   "execution_count": 46,
   "metadata": {},
   "outputs": [],
   "source": [
    "X = np.array(X)\n",
    "\n",
    "d = np.array(d)"
   ]
  },
  {
   "cell_type": "markdown",
   "metadata": {},
   "source": [
    "### Treinamento da rede neural MLP\n",
    "\n",
    "---"
   ]
  },
  {
   "cell_type": "code",
   "execution_count": 49,
   "metadata": {},
   "outputs": [],
   "source": [
    "# valor maximo de epocas\n",
    "MAX_EPOCA = int(10e+6)\n",
    "\n",
    "# Taxa de aprendizado\n",
    "n = 0.1\n",
    "\n",
    "# Fator de momentum\n",
    "m = 0.9\n",
    "\n",
    "# Precisao\n",
    "p = 10e-6"
   ]
  },
  {
   "cell_type": "markdown",
   "metadata": {},
   "source": [
    "Funcao logistica (sigmoide):\n",
    "\n",
    "$f(u) = 1 / (1 + e^{(-β*u)})$\n",
    "\n",
    "sendo $β$ o fator de inclinacao da funcao e $u$ a entrada"
   ]
  },
  {
   "cell_type": "code",
   "execution_count": 50,
   "metadata": {},
   "outputs": [],
   "source": [
    "def func_ativacao(u, beta):\n",
    "\n",
    "    g = 1 / (1 + np.exp(-beta * u))\n",
    "\n",
    "    return g"
   ]
  },
  {
   "cell_type": "code",
   "execution_count": null,
   "metadata": {},
   "outputs": [],
   "source": [
    "# Plot Funcao de Ativacao\n",
    "\n",
    "u = np.arange(-5,5,0.1)\n",
    "resultado = func_ativacao(u, 0.5)\n",
    "\n",
    "plt.figure(figsize=(8, 6))\n",
    "plt.plot(u, resultado, label='Função Sigmoide', linewidth=2)\n",
    "plt.xlabel('u')\n",
    "plt.ylabel('g(u)')\n",
    "plt.title('Função de Ativação Sigmoide')\n",
    "plt.grid(True)\n",
    "plt.legend()\n",
    "plt.show()"
   ]
  },
  {
   "cell_type": "code",
   "execution_count": 51,
   "metadata": {},
   "outputs": [],
   "source": [
    "def func_ativacao_derivada(u, beta):\n",
    "    \n",
    "    gd = (beta * np.exp(-beta * u))/((np.exp(-beta * u) + 1) ** 2)\n",
    "\n",
    "    return gd"
   ]
  },
  {
   "cell_type": "code",
   "execution_count": null,
   "metadata": {},
   "outputs": [],
   "source": [
    "# Plot Funcao de Ativacao Derivada\n",
    "\n",
    "u = np.arange(-5,5,0.1)\n",
    "resultado = func_ativacao_derivada(u, 0.5)\n",
    "\n",
    "plt.figure(figsize=(8, 6))\n",
    "plt.plot(u, resultado, label='Função Sigmoide Derivada', linewidth=2)\n",
    "plt.xlabel('u')\n",
    "plt.ylabel('g(u)')\n",
    "plt.title('Função de Ativação Sigmoide Derivada')\n",
    "plt.grid(True)\n",
    "plt.legend()\n",
    "plt.show()"
   ]
  },
  {
   "cell_type": "code",
   "execution_count": 86,
   "metadata": {},
   "outputs": [],
   "source": [
    "# X -> dados de entrada\n",
    "# d -> saida desejada (alvo)\n",
    "# n -> taxa de aprendizado\n",
    "# m -> fator de momentum\n",
    "# MAX_EPOCA -> quantidade maxima de epcas de treinamento\n",
    "# p -> precisao\n",
    "# beta -> inclinacao das funcoes\n",
    "\n",
    "def treinamento(X, d, n, m, MAX_EPOCA, p, beta):\n",
    "\n",
    "    # Lista de matrizes de pesos sinapticos iniciais e ajustados\n",
    "    lista_Wi_1 = []\n",
    "    lista_Wi_2 = []\n",
    "\n",
    "    lista_W_1_bp = []\n",
    "    lista_W_2_bp = []\n",
    "\n",
    "    for n_treino in range(5):\n",
    "\n",
    "        print('-'*30)\n",
    "        print(f'Treinamento numero: {n_treino + 1}')\n",
    "        print('-'*30)\n",
    "        \n",
    "        # Contador de epocas\n",
    "        epoca = 0\n",
    "\n",
    "        # Vetor de erros\n",
    "        erro = np.zeros(MAX_EPOCA)\n",
    "\n",
    "        # Pesos aleatorios entre 0 e 1 do n_treino\n",
    "        # (15, 5) -> (15 neuronios, 4 entradas + 1 bias)\n",
    "        W_1 = np.random.randn(15,5)\n",
    "\n",
    "        # Salva na tabela Wi_1\n",
    "        lista_Wi_1.append(W_1)\n",
    "\n",
    "        # Pesos aleatorios entre 0 e 1 do n_treino\n",
    "        # (3, 16) -> (3 neuronios, 15 entradas + 1 bias)\n",
    "        W_2 = np.random.randn(3, 16)\n",
    "\n",
    "        # Salva na tabela Wi_2\n",
    "        lista_Wi_2.append(W_2)\n",
    "\n",
    "        # matriz sinaptica anterior = atual (para a primeira epoca)\n",
    "        W_1_a = W_1\n",
    "        W_2_a = W_2\n",
    "\n",
    "        while(epoca < MAX_EPOCA):\n",
    "\n",
    "            # print(f'epoca {epoca}')\n",
    "\n",
    "            #######################\n",
    "            # ETAPAS FEED FORWARD #\n",
    "            #######################\n",
    "            \n",
    "            # **CAMADA 1 - HIDDEN**\n",
    "\n",
    "            # Entrada I_1 = X * W_1\n",
    "            I_1 = X.dot(W_1.T)\n",
    "\n",
    "            # Saida Y_1 = g(I_1)\n",
    "            Y_1 = func_ativacao(I_1, beta)\n",
    "            \n",
    "            # **CAMADA 2 - OUT**\n",
    "\n",
    "            # Adicao do bias\n",
    "            Y_1 = pd.DataFrame(Y_1)\n",
    "            Y_1['bias'] = -1\n",
    "            Y_1 = np.array(Y_1)\n",
    "\n",
    "            # Entrada I_2 = Y_1 * W_2\n",
    "            I_2 = (Y_1).dot(W_2.T)\n",
    "\n",
    "            # Saida Y_2 = g(I_2)\n",
    "            Y_2 = func_ativacao(I_2, beta)\n",
    "\n",
    "            # Erro da previsao FOWARD\n",
    "            erro[epoca] = np.mean((d - Y_2) ** 2)\n",
    "            \n",
    "            ######################\n",
    "            # ETAPAS DE BACKWARD #\n",
    "            ######################\n",
    "\n",
    "            # **CAMADA 2 - OUT**\n",
    "\n",
    "            # ta = termo de aprendizagem\n",
    "\n",
    "            # tm = termo de momentum\n",
    "\n",
    "            gd_2 = func_ativacao_derivada(I_2, beta)\n",
    "            erro_2 = d - Y_2\n",
    "            delta_2 = erro_2 * gd_2\n",
    "            \n",
    "            ta_2 = ((n * delta_2).T).dot(Y_1)\n",
    "\n",
    "            tm_2 = m * (W_2 - W_2_a)\n",
    "\n",
    "            W_2_bp = W_2 + tm_2 + ta_2\n",
    "            \n",
    "            # **CAMADA 1 - HIDDEN**\n",
    "\n",
    "            gd_1 = func_ativacao_derivada(I_1, beta)\n",
    "\n",
    "            delta_1 = (delta_2.dot(W_2_bp[:, :-1])) * gd_1\n",
    "\n",
    "            ta_1 = ((n * delta_1).T).dot(X)\n",
    "\n",
    "            tm_1 = m * (W_1 - W_1_a)\n",
    "\n",
    "            W_1_bp = W_1 + tm_1 + ta_1\n",
    "\n",
    "            #########################################\n",
    "            # Calculo das saidas ajustadas Y_2_n_bp #\n",
    "            #########################################\n",
    "\n",
    "            I_1_bp = X.dot(W_1_bp.T)\n",
    "            Y_1_bp = func_ativacao(I_1_bp, beta)\n",
    "\n",
    "            # Adicao do bias\n",
    "            Y_1_bp = pd.DataFrame(Y_1_bp)\n",
    "            Y_1_bp['bias'] = -1\n",
    "            Y_1_bp = np.array(Y_1_bp)\n",
    "\n",
    "            I_2_bp = (Y_1_bp).dot(W_2_bp.T)\n",
    "            Y_2_bp = func_ativacao(I_2_bp, beta)\n",
    "\n",
    "            # Erro da previsao PÓS-BACKWARD\n",
    "            erro[epoca + 1] = np.mean((d - Y_2_bp) ** 2)\n",
    "\n",
    "            # Incremente de epoca\n",
    "            epoca = epoca + 1\n",
    "\n",
    "            # print(f'epoca{epoca} - {abs(erro[epoca] - erro[epoca - 1])} < {p}')\n",
    "\n",
    "            # Busca pela precisao\n",
    "            if (abs(erro[epoca] - erro[epoca - 1]) < p):\n",
    "\n",
    "                print(f'Convergência em {epoca} épocas')\n",
    "                print(f'Erro Médio Quadrático = {np.mean(erro)}')\n",
    "\n",
    "                # Armazena as matrizes de pesos sinapticos ajustados na lista\n",
    "                lista_W_1_bp.append(W_1_bp)\n",
    "                lista_W_2_bp.append(W_2_bp)\n",
    "                \n",
    "                # Grafico do erro\n",
    "                plt.figure()\n",
    "                plt.plot(np.arange(epoca+1), erro[:epoca+1], linewidth=1)\n",
    "                ttl = f'Erro pelas épocas (Treinamento {n_treino + 1})'\n",
    "                plt.title(ttl)\n",
    "                plt.ylabel('Erro Quadrático Médio')\n",
    "                plt.xlabel('Épocas')\n",
    "                \n",
    "                plt.xlim(0, epoca)\n",
    "                plt.ylim(0, 1)\n",
    "                plt.grid()\n",
    "                plt.savefig(f'Fig/EPC5_n_treino{n_treino + 1}.pdf', format='pdf')\n",
    "                plt.show()\n",
    "\n",
    "                break\n",
    "\n",
    "            # Atualiza as matrizes iniciais com as ajustadas\n",
    "            W_1_a = W_1 \n",
    "            W_2_a = W_2\n",
    "\n",
    "            W_1 = W_1_bp\n",
    "            W_2 = W_2_bp\n",
    "\n",
    "    return lista_W_1_bp, lista_W_2_bp"
   ]
  },
  {
   "cell_type": "code",
   "execution_count": 87,
   "metadata": {},
   "outputs": [
    {
     "name": "stdout",
     "output_type": "stream",
     "text": [
      "------------------------------\n",
      "Treinamento numero: 1\n",
      "------------------------------\n",
      "Convergência em 242 épocas\n",
      "Erro Médio Quadrático = 1.1732792109890755e-06\n"
     ]
    },
    {
     "data": {
      "image/png": "[encoded data removed]",
      "text/plain": [
       "<Figure size 640x480 with 1 Axes>"
      ]
     },
     "metadata": {},
     "output_type": "display_data"
    },
    {
     "name": "stdout",
     "output_type": "stream",
     "text": [
      "------------------------------\n",
      "Treinamento numero: 2\n",
      "------------------------------\n",
      "Convergência em 236 épocas\n",
      "Erro Médio Quadrático = 1.1289680917139654e-06\n"
     ]
    },
    {
     "data": {
      "image/png": "[encoded data removed]",
      "text/plain": [
       "<Figure size 640x480 with 1 Axes>"
      ]
     },
     "metadata": {},
     "output_type": "display_data"
    },
    {
     "name": "stdout",
     "output_type": "stream",
     "text": [
      "------------------------------\n",
      "Treinamento numero: 3\n",
      "------------------------------\n",
      "Convergência em 279 épocas\n",
      "Erro Médio Quadrático = 4.125391802100873e-06\n"
     ]
    },
    {
     "data": {
      "image/png": "[encoded data removed]",
      "text/plain": [
       "<Figure size 640x480 with 1 Axes>"
      ]
     },
     "metadata": {},
     "output_type": "display_data"
    },
    {
     "name": "stdout",
     "output_type": "stream",
     "text": [
      "------------------------------\n",
      "Treinamento numero: 4\n",
      "------------------------------\n",
      "Convergência em 149 épocas\n",
      "Erro Médio Quadrático = 2.1065608891483944e-06\n"
     ]
    },
    {
     "data": {
      "image/png": "[encoded data removed]",
      "text/plain": [
       "<Figure size 640x480 with 1 Axes>"
      ]
     },
     "metadata": {},
     "output_type": "display_data"
    },
    {
     "name": "stdout",
     "output_type": "stream",
     "text": [
      "------------------------------\n",
      "Treinamento numero: 5\n",
      "------------------------------\n",
      "Convergência em 235 épocas\n",
      "Erro Médio Quadrático = 1.0407142903404535e-06\n"
     ]
    },
    {
     "data": {
      "image/png": "[encoded data removed]",
      "text/plain": [
       "<Figure size 640x480 with 1 Axes>"
      ]
     },
     "metadata": {},
     "output_type": "display_data"
    }
   ],
   "source": [
    "lista_W_1_bp, lista_W_2_bp = treinamento(X, d, n, m, MAX_EPOCA, p, 0.5)"
   ]
  },
  {
   "cell_type": "code",
   "execution_count": 102,
   "metadata": {},
   "outputs": [],
   "source": [
    "# Treino 5 (n=4) apresentou o menor erro médio quadrático "
   ]
  },
  {
   "cell_type": "markdown",
   "metadata": {},
   "source": [
    "### Teste da rede neural\n",
    "\n",
    "---"
   ]
  },
  {
   "cell_type": "code",
   "execution_count": 82,
   "metadata": {},
   "outputs": [],
   "source": [
    "data_teste = pd.read_csv('data_teste_59_RNA.txt', delim_whitespace=True)"
   ]
  },
  {
   "cell_type": "code",
   "execution_count": 83,
   "metadata": {},
   "outputs": [],
   "source": [
    "# Separacao dos dados de teste\n",
    "\n",
    "x1_teste = data_teste['x1'].copy()\n",
    "x2_teste = data_teste['x2'].copy()\n",
    "x3_teste = data_teste['x3'].copy()\n",
    "x4_teste = data_teste['x4'].copy()\n",
    "X_teste = pd.concat([x1_teste, x2_teste, x3_teste, x4_teste], axis=1)\n",
    "\n",
    "# Adiciona coluna do limiar de ativacao = -1 (bias) no conjunto de dados\n",
    "X_teste['bias'] = -1\n",
    "\n",
    "d1_teste = data_teste['d1'].copy()\n",
    "d2_teste = data_teste['d2'].copy()\n",
    "d3_teste = data_teste['d3'].copy()\n",
    "d_teste = pd.concat([d1_teste, d2_teste, d3_teste], axis=1)"
   ]
  },
  {
   "cell_type": "code",
   "execution_count": 84,
   "metadata": {},
   "outputs": [],
   "source": [
    "X_teste = np.array(X_teste)\n",
    "\n",
    "d_teste = np.array(d_teste)"
   ]
  },
  {
   "cell_type": "code",
   "execution_count": 104,
   "metadata": {},
   "outputs": [],
   "source": [
    "def teste(X_teste, lista_W_1_bp, lista_W_2_bp, beta, n_treino):\n",
    "\n",
    "    #######################\n",
    "    # ETAPAS FEED FORWARD #\n",
    "    #######################\n",
    "    \n",
    "    # entradas I_1 e saida Y_1 da camada 1\n",
    "\n",
    "    I_1 = X_teste.dot(lista_W_1_bp[n_treino].T)\n",
    "\n",
    "    Y_1 = func_ativacao(I_1, beta)\n",
    "\n",
    "    # Adicao do bias\n",
    "    Y_1 = pd.DataFrame(Y_1)\n",
    "    Y_1['bias'] = -1\n",
    "    Y_1 = np.array(Y_1)\n",
    "    \n",
    "    # entrada I_2 e saida Y_2 da camada 2 de saída\n",
    "\n",
    "    I_2 = (Y_1).dot(lista_W_2_bp[n_treino].T)\n",
    "\n",
    "    Y_2 = func_ativacao(I_2, beta)\n",
    "\n",
    "    return Y_2"
   ]
  },
  {
   "cell_type": "code",
   "execution_count": 117,
   "metadata": {},
   "outputs": [
    {
     "data": {
      "text/plain": [
       "array([[1.11644144e-06, 1.07057792e-02, 9.92401648e-01],\n",
       "       [9.99901802e-01, 1.93480088e-04, 3.41548396e-10],\n",
       "       [9.55580269e-07, 1.07890869e-02, 9.93647986e-01],\n",
       "       [7.24564190e-03, 9.50954888e-01, 1.12060355e-03],\n",
       "       [4.89050687e-06, 1.03959789e-01, 9.20696450e-01],\n",
       "       [9.50321828e-01, 5.17535396e-02, 2.00028439e-07],\n",
       "       [2.11692073e-03, 9.66072176e-01, 3.41186550e-03],\n",
       "       [5.84503629e-04, 9.56716301e-01, 1.45276620e-02],\n",
       "       [9.81532460e-01, 2.39447798e-02, 5.91489289e-08],\n",
       "       [9.98192640e-01, 2.26481904e-03, 7.09479763e-09],\n",
       "       [6.80346977e-04, 9.56037541e-01, 1.39585280e-02],\n",
       "       [9.92601797e-01, 8.06884108e-03, 2.67088522e-08],\n",
       "       [4.91282225e-07, 6.07183073e-03, 9.97206475e-01],\n",
       "       [7.42095413e-07, 8.77718740e-03, 9.94756066e-01],\n",
       "       [4.00064079e-07, 4.47155741e-03, 9.98161015e-01],\n",
       "       [9.95538632e-01, 5.59318237e-03, 1.01105440e-08],\n",
       "       [2.54556828e-05, 2.49963831e-01, 6.85014388e-01],\n",
       "       [2.82991590e-03, 9.60938983e-01, 2.64061651e-03]])"
      ]
     },
     "execution_count": 117,
     "metadata": {},
     "output_type": "execute_result"
    }
   ],
   "source": [
    "Y_saida = teste(X_teste, lista_W_1_bp, lista_W_2_bp, 0.5, 4)\n",
    "\n",
    "Y_saida"
   ]
  },
  {
   "cell_type": "markdown",
   "metadata": {},
   "source": [
    "### Classificação dos resultados\n",
    "\n",
    "---"
   ]
  },
  {
   "cell_type": "code",
   "execution_count": null,
   "metadata": {},
   "outputs": [],
   "source": [
    "def classificacao(data):\n",
    "\n",
    "    data_classificada = data.copy()\n",
    "    \n",
    "    data_classificada[data >= 0.5] = 1\n",
    "    data_classificada[data < 0.5] = 0\n",
    "    \n",
    "    return data_classificada"
   ]
  },
  {
   "cell_type": "code",
   "execution_count": 118,
   "metadata": {},
   "outputs": [
    {
     "data": {
      "text/plain": [
       "array([[0., 0., 1.],\n",
       "       [1., 0., 0.],\n",
       "       [0., 0., 1.],\n",
       "       [0., 1., 0.],\n",
       "       [0., 0., 1.],\n",
       "       [1., 0., 0.],\n",
       "       [0., 1., 0.],\n",
       "       [0., 1., 0.],\n",
       "       [1., 0., 0.],\n",
       "       [1., 0., 0.],\n",
       "       [0., 1., 0.],\n",
       "       [1., 0., 0.],\n",
       "       [0., 0., 1.],\n",
       "       [0., 0., 1.],\n",
       "       [0., 0., 1.],\n",
       "       [1., 0., 0.],\n",
       "       [0., 0., 1.],\n",
       "       [0., 1., 0.]])"
      ]
     },
     "execution_count": 118,
     "metadata": {},
     "output_type": "execute_result"
    }
   ],
   "source": [
    "Y_saida_final = classificacao(Y_saida)\n",
    "\n",
    "Y_saida_final"
   ]
  },
  {
   "cell_type": "markdown",
   "metadata": {},
   "source": [
    "### Verificação da precisão (Acertos)\n",
    "\n",
    "Caso haja algum número diferente de zero (0) alguma previsão está errada\n",
    "\n",
    "---"
   ]
  },
  {
   "cell_type": "code",
   "execution_count": 119,
   "metadata": {},
   "outputs": [
    {
     "data": {
      "text/plain": [
       "array([[0., 0., 0.],\n",
       "       [0., 0., 0.],\n",
       "       [0., 0., 0.],\n",
       "       [0., 0., 0.],\n",
       "       [0., 0., 0.],\n",
       "       [0., 0., 0.],\n",
       "       [0., 0., 0.],\n",
       "       [0., 0., 0.],\n",
       "       [0., 0., 0.],\n",
       "       [0., 0., 0.],\n",
       "       [0., 0., 0.],\n",
       "       [0., 0., 0.],\n",
       "       [0., 0., 0.],\n",
       "       [0., 0., 0.],\n",
       "       [0., 0., 0.],\n",
       "       [0., 0., 0.],\n",
       "       [0., 0., 0.],\n",
       "       [0., 0., 0.]])"
      ]
     },
     "execution_count": 119,
     "metadata": {},
     "output_type": "execute_result"
    }
   ],
   "source": [
    "Y_saida_final - d_teste"
   ]
  },
  {
   "cell_type": "markdown",
   "metadata": {},
   "source": [
    "Precisão de 100% !"
   ]
  }
 ],
 "metadata": {
  "kernelspec": {
   "display_name": "Python 3",
   "language": "python",
   "name": "python3"
  },
  "language_info": {
   "codemirror_mode": {
    "name": "ipython",
    "version": 3
   },
   "file_extension": ".py",
   "mimetype": "text/x-python",
   "name": "python",
   "nbconvert_exporter": "python",
   "pygments_lexer": "ipython3",
   "version": "3.11.0"
  },
  "orig_nbformat": 4
 },
 "nbformat": 4,
 "nbformat_minor": 2
}
